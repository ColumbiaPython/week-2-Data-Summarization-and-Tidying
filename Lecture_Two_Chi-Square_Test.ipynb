{
 "cells": [
  {
   "cell_type": "markdown",
   "metadata": {},
   "source": [
    "# Case Study\n",
    "\n",
    "A small survey of health-care providers (physicians in private practice) classifies respondents as being either Primary-Care Providers (PCP) or Specialists (Spec). Of the 26 PCP physicians responding to the survey, 19 say health care reform is needed, and the rest say it is not. Of the 29 Specialists, 10 say reform is needed, and the rest say it is not.\n",
    "Use the most appropriate test (at the .05 level) to test if type of specialization (PCP vs. Specialist) is independent of support for health care reform. Report the results in APA format. Interpret the results in terms of the proportion of each type of physician supporting health care reform (citing relevant descriptive statistics).\n",
    "\n",
    "\n",
    "    \n",
    "# Problem 1 \n",
    "Use the most appropriate test (at the .05 level) to test if type of specialization (PCP vs. Specialist) is independent of support for health care reform."
   ]
  },
  {
   "cell_type": "code",
   "execution_count": 1,
   "metadata": {},
   "outputs": [],
   "source": [
    "#### Observed frequencies:\n",
    "####                      PCP   Spec   Sums\n",
    "#### Need Reform           19     10     29\n",
    "#### Don’t need reform     7      19     26\n",
    "#### Sums                  26     29     55"
   ]
  },
  {
   "cell_type": "code",
   "execution_count": 13,
   "metadata": {},
   "outputs": [
    {
     "data": {
      "text/plain": [
       "Power_divergenceResult(statistic=24.834586466165415, pvalue=6.246653302320535e-07)"
      ]
     },
     "execution_count": 13,
     "metadata": {},
     "output_type": "execute_result"
    }
   ],
   "source": [
    "from scipy import stats\n",
    "Need_Reform = [19,     10]\n",
    "Dont_need_reform =  [7 ,     19]\n",
    "stats.chisquare(Need_Reform, Dont_need_reform)"
   ]
  },
  {
   "cell_type": "code",
   "execution_count": 14,
   "metadata": {},
   "outputs": [
    {
     "data": {
      "text/plain": [
       "(6.717091075712909, 0.00954932563048075, 1, array([[13.70909091, 15.29090909],\n",
       "        [12.29090909, 13.70909091]]))"
      ]
     },
     "execution_count": 14,
     "metadata": {},
     "output_type": "execute_result"
    }
   ],
   "source": [
    "import numpy as np\n",
    "dice = np.array([Need_Reform, Dont_need_reform])\n",
    "stats.chi2_contingency(dice)"
   ]
  },
  {
   "cell_type": "code",
   "execution_count": 15,
   "metadata": {},
   "outputs": [
    {
     "name": "stdout",
     "output_type": "stream",
     "text": [
      "===Chi2 Stat===\n",
      "6.717091075712909\n",
      "\n",
      "\n",
      "===Degrees of Freedom===\n",
      "1\n",
      "\n",
      "\n",
      "===P-Value===\n",
      "0.00954932563048075\n",
      "\n",
      "\n",
      "===Contingency Table===\n",
      "[[13.70909091 15.29090909]\n",
      " [12.29090909 13.70909091]]\n"
     ]
    }
   ],
   "source": [
    "## a better visualization of the result\n",
    "chi2_stat, p_val, dof, ex = stats.chi2_contingency(dice)\n",
    "print(\"===Chi2 Stat===\")\n",
    "print(chi2_stat)\n",
    "print(\"\\n\")\n",
    "print(\"===Degrees of Freedom===\")\n",
    "print(dof)\n",
    "print(\"\\n\")\n",
    "print(\"===P-Value===\")\n",
    "print(p_val)\n",
    "print(\"\\n\")\n",
    "print(\"===Contingency Table===\")\n",
    "print(ex)"
   ]
  },
  {
   "cell_type": "markdown",
   "metadata": {},
   "source": [
    "### Chi2observed = 6.72, Chi2crit = 3.84 ",
    "\n",
    "### The observed frequencies are significantly different from the frequencies expected due to chance alone.\n",
    "\n",
    "### Conclusion: Specialization is not independent of support for health care reform, such that the proportion of PCP and Spec physicians supporting health care reform is significantly different, Chi2(1) = 3.84, p < .05.\n",
    "\n",
    "### Contingency Table = Expected frequencies\n",
    "the array at the end of the output is the contingency table with expected values based on all of our samples. Note in this case, our contingency table produced values that are, in some cases, quite a bit off of what we know we should expect. This is because we are using too small of a sample to accurate measure the population."
   ]
  },
  {
   "cell_type": "markdown",
   "metadata": {},
   "source": [
    "# Concept: Chi-Square Test\n",
    "The Chi-Square test of independence is used to determine if there is a significant relationship between two categorical variables.  \n",
    "\n",
    "The frequency of each category for one nominal variable is compared across the categories of the second nominal variable.  \n",
    "\n",
    "The data can be displayed in a contingency table where each row represents a category for one variable and each column represents a category for the other variable.  \n",
    "\n",
    "For example, a researcher wants to examine the relationship between gender (male vs. female) and empathy (high vs. low).  \n",
    "\n",
    "The chi-square test of independence can be used to examine this relationship.  \n",
    "\n",
    "The null hypothesis for this test is that there is no relationship between gender and empathy.  \n",
    "\n",
    "The alternative hypothesis is that there is a relationship between gender and empathy (e.g. there are more high-empathy females than high-empathy males).\n",
    "\n",
    "Reference: http://www.statisticssolutions.com/non-parametric-analysis-chi-square/"
   ]
  },
  {
   "cell_type": "code",
   "execution_count": null,
   "metadata": {},
   "outputs": [],
   "source": []
  },
  {
   "cell_type": "code",
   "execution_count": null,
   "metadata": {},
   "outputs": [],
   "source": []
  }
 ],
 "metadata": {
  "kernelspec": {
   "display_name": "Python 3",
   "language": "python",
   "name": "python3"
  },
  "language_info": {
   "codemirror_mode": {
    "name": "ipython",
    "version": 3
   },
   "file_extension": ".py",
   "mimetype": "text/x-python",
   "name": "python",
   "nbconvert_exporter": "python",
   "pygments_lexer": "ipython3",
   "version": "3.6.5"
  }
 },
 "nbformat": 4,
 "nbformat_minor": 2
}
